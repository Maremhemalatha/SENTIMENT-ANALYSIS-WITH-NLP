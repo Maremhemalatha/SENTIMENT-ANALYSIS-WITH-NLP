{
 "cells": [
  {
   "cell_type": "code",
   "execution_count": 4,
   "id": "201ef267-fcce-4312-b5e1-1417ffde6f21",
   "metadata": {},
   "outputs": [
    {
     "data": {
      "text/html": [
       "<mark>Amazon Reviews Dataset</mark>"
      ],
      "text/plain": [
       "<IPython.core.display.HTML object>"
      ]
     },
     "metadata": {},
     "output_type": "display_data"
    },
    {
     "data": {
      "text/html": [
       "<mark>SentimentAnalysis</mark>"
      ],
      "text/plain": [
       "<IPython.core.display.HTML object>"
      ]
     },
     "metadata": {},
     "output_type": "display_data"
    },
    {
     "name": "stdout",
     "output_type": "stream",
     "text": [
      "Before Balancing:\n",
      " Sentiment\n",
      "1    4448\n",
      "0     324\n",
      "Name: count, dtype: int64\n",
      "After Balancing:\n",
      " Sentiment\n",
      "0    324\n",
      "1    324\n",
      "Name: count, dtype: int64\n"
     ]
    },
    {
     "data": {
      "text/html": [
       "<mark>Evaluating the Model</Mark>"
      ],
      "text/plain": [
       "<IPython.core.display.HTML object>"
      ]
     },
     "metadata": {},
     "output_type": "display_data"
    },
    {
     "name": "stdout",
     "output_type": "stream",
     "text": [
      "Accuracy Score: 0.9\n",
      "\n",
      "Classification Report:\n",
      "               precision    recall  f1-score   support\n",
      "\n",
      "           0       0.85      0.95      0.90        61\n",
      "           1       0.95      0.86      0.90        69\n",
      "\n",
      "    accuracy                           0.90       130\n",
      "   macro avg       0.90      0.90      0.90       130\n",
      "weighted avg       0.91      0.90      0.90       130\n",
      "\n",
      "\n",
      "Confusion Matrix:\n",
      " [[58  3]\n",
      " [10 59]]\n"
     ]
    },
    {
     "data": {
      "image/png": "[encoded data removed]",
      "text/plain": [
       "<Figure size 640x480 with 2 Axes>"
      ]
     },
     "metadata": {},
     "output_type": "display_data"
    }
   ],
   "source": [
    "import pandas as pd\n",
    "import numpy as np\n",
    "import re\n",
    "import nltk\n",
    "import matplotlib.pyplot as plt\n",
    "import seaborn as sns\n",
    "from sklearn.model_selection import train_test_split\n",
    "from sklearn.feature_extraction.text import TfidfVectorizer\n",
    "from sklearn.naive_bayes import MultinomialNB\n",
    "from sklearn.metrics import classification_report, confusion_matrix, accuracy_score\n",
    "from nltk.corpus import stopwords\n",
    "from nltk.stem import WordNetLemmatizer\n",
    "from IPython.display import display,HTML\n",
    "stop_words = set(stopwords.words('english'))\n",
    "lemmatizer = WordNetLemmatizer()\n",
    "display(HTML(\"<mark>Amazon Reviews Dataset</mark>\"))\n",
    "df = pd.read_csv(\"C:\\\\Users\\\\marem\\\\Downloads\\\\amazon_reviews.csv\")\n",
    "df = df[['reviewText', 'overall']]\n",
    "#Data Processing\n",
    "df.dropna(subset=['reviewText', 'overall'], inplace=True)\n",
    "def assign_sentiment(score):\n",
    "    if score >= 4:\n",
    "        return 1\n",
    "    elif score <= 2:\n",
    "        return 0\n",
    "    else:\n",
    "        return None\n",
    "df['Sentiment'] = df['overall'].apply(assign_sentiment)\n",
    "df = df.dropna(subset=['Sentiment'])\n",
    "df['Sentiment'] = df['Sentiment'].astype(int)\n",
    "display(HTML(\"<mark>SentimentAnalysis</mark>\"))\n",
    "print(\"Before Balancing:\\n\", df['Sentiment'].value_counts())\n",
    "positive_df = df[df['Sentiment'] == 1]\n",
    "negative_df = df[df['Sentiment'] == 0]\n",
    "min_count = min(len(positive_df), len(negative_df))\n",
    "balanced_df = pd.concat([\n",
    "    positive_df.sample(min_count, random_state=42),\n",
    "    negative_df.sample(min_count, random_state=42)\n",
    "]).sample(frac=1, random_state=42).reset_index(drop=True)\n",
    "print(\"After Balancing:\\n\", balanced_df['Sentiment'].value_counts())\n",
    "#Clean and Lemmatize Text\n",
    "def clean_and_lemmatize(text):\n",
    "    text = str(text).lower()\n",
    "    text = re.sub(r\"http\\S+|[^a-zA-Z\\s]\", \"\", text)\n",
    "    words = text.split()\n",
    "    words = [lemmatizer.lemmatize(w) for w in words if w not in stop_words]\n",
    "    return \" \".join(words)\n",
    "\n",
    "balanced_df['Cleaned_Review'] = balanced_df['reviewText'].apply(clean_and_lemmatize)\n",
    "#TF-IDF Vectorization (Unigram + Bigram)\n",
    "vectorizer = TfidfVectorizer(max_features=5000, stop_words='english', ngram_range=(1,2))\n",
    "X = vectorizer.fit_transform(balanced_df['Cleaned_Review'])\n",
    "y = balanced_df['Sentiment']\n",
    "#Train-Test Split\n",
    "X_train, X_test, y_train, y_test = train_test_split(X, y, test_size=0.2, random_state=42)\n",
    "#Train Naive Bayes Model\n",
    "model = MultinomialNB()\n",
    "model.fit(X_train, y_train)\n",
    "y_pred = model.predict(X_test)\n",
    "display(HTML(\"<mark>Evaluating the Model</Mark>\"))\n",
    "print(\"Accuracy Score:\", accuracy_score(y_test, y_pred))\n",
    "print(\"\\nClassification Report:\\n\", classification_report(y_test, y_pred, zero_division=1))\n",
    "print(\"\\nConfusion Matrix:\\n\", confusion_matrix(y_test, y_pred))\n",
    "#Confusion Matrix\n",
    "sns.heatmap(confusion_matrix(y_test, y_pred), annot=True, fmt='d', cmap='YlGnBu')\n",
    "plt.title(\"Confusion Matrix\")\n",
    "plt.xlabel(\"Predicted\")\n",
    "plt.ylabel(\"Actual\")\n",
    "plt.show()"
   ]
  },
  {
   "cell_type": "code",
   "execution_count": null,
   "id": "276fd688-4baa-4745-8975-0fa91178ee57",
   "metadata": {},
   "outputs": [],
   "source": []
  },
  {
   "cell_type": "code",
   "execution_count": null,
   "id": "8f9d5b32-5174-49a9-a439-96cebfa2e179",
   "metadata": {},
   "outputs": [],
   "source": []
  }
 ],
 "metadata": {
  "kernelspec": {
   "display_name": "Python 3 (ipykernel)",
   "language": "python",
   "name": "python3"
  },
  "language_info": {
   "codemirror_mode": {
    "name": "ipython",
    "version": 3
   },
   "file_extension": ".py",
   "mimetype": "text/x-python",
   "name": "python",
   "nbconvert_exporter": "python",
   "pygments_lexer": "ipython3",
   "version": "3.13.5"
  }
 },
 "nbformat": 4,
 "nbformat_minor": 5
}
